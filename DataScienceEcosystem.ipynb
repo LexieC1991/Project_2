{
 "cells": [
  {
   "cell_type": "markdown",
   "id": "1319628f-09f1-4c6b-a245-6cf527dbf981",
   "metadata": {
    "tags": []
   },
   "source": [
    "# Data Science Tools and Ecosystem"
   ]
  },
  {
   "cell_type": "markdown",
   "id": "9d8ef9b4-ec0d-4b95-bc5d-221da3b585cd",
   "metadata": {},
   "source": [
    "### In this notebook, Data Science Tools and Ecosystem are summarized."
   ]
  },
  {
   "cell_type": "markdown",
   "id": "2385a235-5673-4f5c-9d03-e276754e2c71",
   "metadata": {},
   "source": [
    "#### **Objectives:**\n",
    "\n",
    "- List popular languages for Data Science\n",
    "- List popular libraries for Data Science\n",
    "- Provide examples of arithmetic"
   ]
  },
  {
   "cell_type": "markdown",
   "id": "2277f520-fa5e-4b57-a43e-7036145db14d",
   "metadata": {},
   "source": [
    "#### Some of the popular languages that Data Scientists use are:\n",
    "\n",
    "1. Python\n",
    "2. R Language\n",
    "3. SQL"
   ]
  },
  {
   "cell_type": "markdown",
   "id": "4a6c91eb-7bec-4cce-9ede-3dfa1df6cc39",
   "metadata": {},
   "source": [
    "#### Some of the commonly used libraries used by Data Scientists include:\n",
    "\n",
    "1. Pandas\n",
    "2. Matplotlib\n",
    "3. TensorFlow"
   ]
  },
  {
   "cell_type": "markdown",
   "id": "d447cd13-1a33-4e30-98e1-f3dc34ece37b",
   "metadata": {},
   "source": [
    "|Data Science Tools|\n",
    "--------------------\n",
    "|My SQL|\n",
    "|Apache Air Flow|\n",
    "|Hadoop File System|"
   ]
  },
  {
   "cell_type": "markdown",
   "id": "1577a4c3-c2b5-4636-b362-d4dc9cf4c465",
   "metadata": {},
   "source": [
    "### Below are a few examples of evaluating arithmetic expressions in Python"
   ]
  },
  {
   "cell_type": "code",
   "execution_count": 1,
   "id": "c8e6cd6b-0ac3-4938-9c8b-9d02b3c19097",
   "metadata": {},
   "outputs": [
    {
     "data": {
      "text/plain": [
       "17"
      ]
     },
     "execution_count": 1,
     "metadata": {},
     "output_type": "execute_result"
    }
   ],
   "source": [
    "# This a simple arithmetic expression to mutiply then add integers\n",
    "(3*4)+5"
   ]
  },
  {
   "cell_type": "code",
   "execution_count": 3,
   "id": "1933e32a-321d-447e-a9c9-38ba70db9912",
   "metadata": {},
   "outputs": [
    {
     "data": {
      "text/plain": [
       "3.3333333333333335"
      ]
     },
     "execution_count": 3,
     "metadata": {},
     "output_type": "execute_result"
    }
   ],
   "source": [
    "# This will convert 200 minutes to hours by diving by 60\n",
    "200/60"
   ]
  },
  {
   "cell_type": "markdown",
   "id": "bd1af762-3d49-48e9-93f5-a4ab2c4a58ae",
   "metadata": {},
   "source": [
    "## Author\n",
    "Alexis Crawford"
   ]
  },
  {
   "cell_type": "code",
   "execution_count": null,
   "id": "3390bc1c-e776-4010-ac46-e00d0dd11484",
   "metadata": {},
   "outputs": [],
   "source": []
  }
 ],
 "metadata": {
  "kernelspec": {
   "display_name": "Python",
   "language": "python",
   "name": "conda-env-python-py"
  },
  "language_info": {
   "codemirror_mode": {
    "name": "ipython",
    "version": 3
   },
   "file_extension": ".py",
   "mimetype": "text/x-python",
   "name": "python",
   "nbconvert_exporter": "python",
   "pygments_lexer": "ipython3",
   "version": "3.7.12"
  }
 },
 "nbformat": 4,
 "nbformat_minor": 5
}
